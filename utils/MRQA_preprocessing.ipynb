{
  "nbformat": 4,
  "nbformat_minor": 0,
  "metadata": {
    "colab": {
      "provenance": [],
      "collapsed_sections": [
        "OrrEtrLKR9e-",
        "o3DB9rRpG9ai",
        "ra81UzImFDYD"
      ]
    },
    "kernelspec": {
      "name": "python3",
      "display_name": "Python 3"
    },
    "language_info": {
      "name": "python"
    }
  },
  "cells": [
    {
      "cell_type": "code",
      "source": [
        "!pip install -qqq -U wandb --progress-bar off\n",
        "!pip install datasets --progress-bar off\n",
        "!pip install transformers --progress-bar off\n",
        "import wandb\n",
        "from huggingface_hub import login\n",
        "from google.colab import userdata\n",
        "\n",
        "login(userdata.get('HF_TOKEN'))\n",
        "\n",
        "wb_token = userdata.get('wandb')\n",
        "wandb.login(key=wb_token)"
      ],
      "metadata": {
        "id": "2NUbBY6u4ZrJ"
      },
      "execution_count": null,
      "outputs": []
    },
    {
      "cell_type": "markdown",
      "source": [
        "# Remove tokens"
      ],
      "metadata": {
        "id": "OrrEtrLKR9e-"
      }
    },
    {
      "cell_type": "code",
      "execution_count": null,
      "metadata": {
        "id": "A692Hlld4HQX"
      },
      "outputs": [],
      "source": [
        "from datasets import load_dataset\n",
        "\n",
        "mrqa = load_dataset(\"mrqa\")\n",
        "mrqa"
      ]
    },
    {
      "cell_type": "code",
      "source": [
        "mrqa = mrqa.remove_columns(['context_tokens', 'question_tokens'])\n",
        "mrqa"
      ],
      "metadata": {
        "id": "svxb2KTr45B3"
      },
      "execution_count": null,
      "outputs": []
    },
    {
      "cell_type": "code",
      "source": [
        "# uncomment to publish the processed dataset\n",
        "#mrqa.push_to_hub(\"mrqa-no-tokens\")"
      ],
      "metadata": {
        "id": "PyYMJ_wd6qJu"
      },
      "execution_count": null,
      "outputs": []
    },
    {
      "cell_type": "markdown",
      "source": [
        "# To Squad format"
      ],
      "metadata": {
        "id": "o3DB9rRpG9ai"
      }
    },
    {
      "cell_type": "code",
      "source": [
        "mymrqa = load_dataset('enriquesaou/mrqa-no-tokens')\n",
        "mymrqa"
      ],
      "metadata": {
        "id": "SGJVAf9tHBRE"
      },
      "execution_count": null,
      "outputs": []
    },
    {
      "cell_type": "code",
      "source": [
        "def convert_dataset_format(input_data):\n",
        "    converted_data = {\n",
        "        \"answers\": {\n",
        "            \"answer_start\": [span['start'][0] for span in input_data['detected_answers']['char_spans']],\n",
        "            \"text\": input_data['answers']\n",
        "        },\n",
        "        \"context\": input_data['context'],\n",
        "        \"id\": input_data['qid'],\n",
        "        \"question\": input_data['question'],\n",
        "    }\n",
        "    return converted_data\n",
        "\n",
        "converted_data = mymrqa.map(convert_dataset_format)\n",
        "print(converted_data, mymrqa)"
      ],
      "metadata": {
        "id": "ASV-oS48HKKw"
      },
      "execution_count": null,
      "outputs": []
    },
    {
      "cell_type": "code",
      "source": [
        "converted_data = converted_data.remove_columns(['detected_answers', 'qid'])"
      ],
      "metadata": {
        "id": "RZps5zhoP4HP"
      },
      "execution_count": null,
      "outputs": []
    },
    {
      "cell_type": "code",
      "source": [
        "converted_data"
      ],
      "metadata": {
        "id": "XWXQWkxOTjDu"
      },
      "execution_count": null,
      "outputs": []
    },
    {
      "cell_type": "code",
      "source": [
        "print(converted_data['train'][0])"
      ],
      "metadata": {
        "id": "eyQ5hUJAO2JS"
      },
      "execution_count": null,
      "outputs": []
    },
    {
      "cell_type": "code",
      "source": [
        "# uncomment to publish\n",
        "#converted_data.push_to_hub(\"mrqa-squadded\")"
      ],
      "metadata": {
        "id": "TYlxxgxOTDUR"
      },
      "execution_count": null,
      "outputs": []
    },
    {
      "cell_type": "markdown",
      "source": [
        "# Sample it"
      ],
      "metadata": {
        "id": "vqrNZ_jUGzzk"
      }
    },
    {
      "cell_type": "code",
      "source": [
        "from datasets import load_dataset\n",
        "\n",
        "mrqa = load_dataset(\"enriquesaou/mrqa-squadded\").shuffle(seed=27)\n",
        "mrqa"
      ],
      "metadata": {
        "id": "nBlhMFbzGzff"
      },
      "execution_count": null,
      "outputs": []
    },
    {
      "cell_type": "code",
      "source": [
        "mrqa['train'] = mrqa['train'].select(range(15000))\n",
        "mrqa['validation'] = mrqa['validation'].select(range(1500))\n",
        "mrqa['test'] = mrqa['test'].select(range(500))"
      ],
      "metadata": {
        "id": "qBbYAmVUInnL"
      },
      "execution_count": null,
      "outputs": []
    },
    {
      "cell_type": "code",
      "source": [
        "mrqa"
      ],
      "metadata": {
        "id": "K28NpzpBJwAb"
      },
      "execution_count": null,
      "outputs": []
    },
    {
      "cell_type": "code",
      "source": [
        "# uncomment to publish the sample\n",
        "#mrqa.push_to_hub(\"mrqa-squadded-sample\")"
      ],
      "metadata": {
        "id": "IWuflxnvJtUz"
      },
      "execution_count": null,
      "outputs": []
    },
    {
      "cell_type": "markdown",
      "source": [
        "# Context token length stats"
      ],
      "metadata": {
        "id": "wSCv6zgypkjY"
      }
    },
    {
      "cell_type": "code",
      "source": [
        "import matplotlib.pyplot as plt\n",
        "\n",
        "def plot_data_lengths(tok_dataset):\n",
        "    fontsize=12\n",
        "    lengths = [len(x['input_ids']) for x in tok_dataset]\n",
        "    print(len(lengths))\n",
        "    print(lengths)\n",
        "\n",
        "    plt.figure(figsize=(10, 6))\n",
        "    plt.hist(lengths)\n",
        "    plt.xlabel('Input length (# of tokens)', fontsize=fontsize)\n",
        "    plt.ylabel('# of examples', fontsize=fontsize)\n",
        "    plt.yticks(fontsize=fontsize)\n",
        "    plt.xticks(fontsize=fontsize)\n",
        "    plt.show()"
      ],
      "metadata": {
        "id": "THUvr06Rpj3O"
      },
      "execution_count": null,
      "outputs": []
    },
    {
      "cell_type": "code",
      "source": [
        "from transformers import AutoTokenizer\n",
        "\n",
        "tokenizer = AutoTokenizer.from_pretrained(\"microsoft/phi-2\")"
      ],
      "metadata": {
        "id": "OeXJqhdnqFoU"
      },
      "execution_count": null,
      "outputs": []
    },
    {
      "cell_type": "code",
      "source": [
        "from datasets import load_dataset\n",
        "\n",
        "mrqa = load_dataset(\"enriquesaou/mrqa-squadded-sample\")"
      ],
      "metadata": {
        "id": "inJnxLZrxOap"
      },
      "execution_count": null,
      "outputs": []
    },
    {
      "cell_type": "code",
      "source": [
        "def tokenize_prompt(data_point):\n",
        "    def format_cqa(context, question):\n",
        "        return \"Answer the question extracting from the context below.\\nContext: \" + context + \"\\nQuestion: \" + question + \"\\nAnswer: \"\n",
        "\n",
        "    full_prompt = format_cqa(data_point['context'], data_point['question']) + data_point['answers']['text'][0]\n",
        "    result = tokenizer(full_prompt)\n",
        "    result[\"labels\"] = result[\"input_ids\"].copy()\n",
        "    return result\n",
        "\n",
        "tokenized_dataset = mrqa.map(tokenize_prompt,\n",
        "                             remove_columns=mrqa['train'].column_names)"
      ],
      "metadata": {
        "id": "-m-E7yaxp8sK"
      },
      "execution_count": null,
      "outputs": []
    },
    {
      "cell_type": "code",
      "source": [
        "plot_data_lengths(tokenized_dataset['train']), plot_data_lengths(tokenized_dataset['validation']), plot_data_lengths(tokenized_dataset['test'])"
      ],
      "metadata": {
        "id": "SOQG0TZZqHp3"
      },
      "execution_count": null,
      "outputs": []
    },
    {
      "cell_type": "markdown",
      "source": [
        "# Answer token length stats"
      ],
      "metadata": {
        "id": "r__Ofo-hIiKZ"
      }
    },
    {
      "cell_type": "code",
      "source": [
        "from transformers import AutoTokenizer\n",
        "\n",
        "tokenizer = AutoTokenizer.from_pretrained(\"microsoft/phi-2\")"
      ],
      "metadata": {
        "id": "wCvH8Do0mCIL"
      },
      "execution_count": null,
      "outputs": []
    },
    {
      "cell_type": "code",
      "source": [
        "from datasets import load_dataset\n",
        "dataset = load_dataset('enriquesaou/mrqa-squadded-sample', split='test')\n",
        "\n",
        "anslen = 0\n",
        "nans = 0\n",
        "answerlen = {}\n",
        "for example in dataset:\n",
        "    for answer in tokenizer(example['answers']['text'])['input_ids']:\n",
        "        nans = nans + 1\n",
        "        anslen = anslen + len(answer)\n",
        "        answerlen[len(answer)] = answerlen.setdefault(len(answer), 0) + 1\n",
        "\n",
        "print(f\"Average ans len {anslen/nans}\")\n",
        "print()\n",
        "\n",
        "import matplotlib.pyplot as plt\n",
        "\n",
        "sorted_data = {key: answerlen[key] for key in sorted(answerlen, reverse=False)}\n",
        "\n",
        "keys = list(sorted_data.keys())\n",
        "values = list(sorted_data.values())\n",
        "\n",
        "plt.figure(figsize=(10, 5))\n",
        "plt.bar(keys, values)\n",
        "plt.xlabel('Answer length (# of tokens)', fontsize=20)\n",
        "plt.ylabel('# of answers', fontsize=20)\n",
        "plt.xticks(fontsize=20)\n",
        "plt.yticks(fontsize=20)\n",
        "plt.xlim(0,30)\n",
        "\n",
        "\n",
        "\n",
        "plt.show()"
      ],
      "metadata": {
        "id": "Y-81lz48Ijim"
      },
      "execution_count": null,
      "outputs": []
    },
    {
      "cell_type": "code",
      "source": [
        "from datasets import load_dataset\n",
        "dataset = load_dataset('enriquesaou/mrqa-squadded-sample', split='validation')\n",
        "\n",
        "\n",
        "anslen = 0\n",
        "nans = 0\n",
        "answerlen = {}\n",
        "for example in dataset:\n",
        "    for answer in tokenizer(example['answers']['text'])['input_ids']:\n",
        "        nans = nans + 1\n",
        "        anslen = anslen + len(answer)\n",
        "        answerlen[len(answer)] = answerlen.setdefault(len(answer), 0) + 1\n",
        "\n",
        "print(f\"Average ans len {anslen/nans}\")\n",
        "print()\n",
        "\n",
        "import matplotlib.pyplot as plt\n",
        "\n",
        "sorted_data = {key: answerlen[key] for key in sorted(answerlen, reverse=False)}\n",
        "\n",
        "keys = list(sorted_data.keys())\n",
        "values = list(sorted_data.values())\n",
        "\n",
        "plt.figure(figsize=(10, 5))\n",
        "plt.bar(keys, values)\n",
        "plt.xlabel('Answer length (# of tokens)', fontsize=20)\n",
        "plt.ylabel('# of answers', fontsize=20)\n",
        "plt.xticks(fontsize=20)\n",
        "plt.yticks(fontsize=20)\n",
        "plt.xlim(0,30)\n",
        "plt.show()"
      ],
      "metadata": {
        "id": "-xJUE0jhaDcE"
      },
      "execution_count": null,
      "outputs": []
    },
    {
      "cell_type": "markdown",
      "source": [
        "# Subset stats"
      ],
      "metadata": {
        "id": "zz0f3wxaoZWK"
      }
    },
    {
      "cell_type": "code",
      "source": [
        "from datasets import load_dataset\n",
        "dataset = load_dataset('enriquesaou/mrqa-squadded')"
      ],
      "metadata": {
        "id": "_k47mWmFUJjW"
      },
      "execution_count": null,
      "outputs": []
    },
    {
      "cell_type": "code",
      "source": [
        "subsets = {}\n",
        "for split in dataset:\n",
        "    for example in dataset[split]:\n",
        "        subsets[example['subset']] = subsets.setdefault(example['subset'], 0) + 1\n",
        "\n",
        "print(subsets)"
      ],
      "metadata": {
        "id": "JL6tD8XnU_E3"
      },
      "execution_count": null,
      "outputs": []
    },
    {
      "cell_type": "code",
      "source": [
        "dataset"
      ],
      "metadata": {
        "id": "Jv-7WhXXWC8C"
      },
      "execution_count": null,
      "outputs": []
    },
    {
      "cell_type": "markdown",
      "source": [
        "# Pie plots subset distribution\n",
        "Note that this was not displayed in the final work"
      ],
      "metadata": {
        "id": "AYa0FijuFF8L"
      }
    },
    {
      "cell_type": "code",
      "source": [
        "def pie_subsets(dataset):\n",
        "    subset_counts = {}\n",
        "    for subset in dataset['subset']:\n",
        "        subset_counts[subset] = subset_counts.setdefault(subset, 0) + 1\n",
        "    subset_counts = dict(sorted(subset_counts.items()))\n",
        "    print(subset_counts)\n",
        "\n",
        "    import matplotlib.pyplot as plt\n",
        "\n",
        "    labels = list(subset_counts.keys())\n",
        "    sizes = list(subset_counts.values())\n",
        "\n",
        "    # colors!\n",
        "    custom_colors = ['#8c564b', '#2ca02c', '#d62728', '#1f77b4', '#ff7f0e', '#9467bd']\n",
        "    color_map = {key: custom_colors[i % len(custom_colors)] for i, key in enumerate(sorted(labels))}\n",
        "    chart_colors = [color_map[label] for label in labels]\n",
        "\n",
        "    fig, ax = plt.subplots()\n",
        "    ax.pie(sizes, labels=labels, colors=chart_colors, autopct='%1.1f%%', startangle=90)\n",
        "    ax.axis('equal')  # circle!\n",
        "\n",
        "    plt.show()"
      ],
      "metadata": {
        "id": "J939KAuZLyH-"
      },
      "execution_count": null,
      "outputs": []
    },
    {
      "cell_type": "code",
      "source": [
        "from datasets import load_dataset\n",
        "\n",
        "dataset = load_dataset('enriquesaou/mrqa-squadded-sample', split='train')\n",
        "pie_subsets(dataset)\n",
        "\n",
        "dataset = load_dataset('mrqa', split='train')\n",
        "pie_subsets(dataset)"
      ],
      "metadata": {
        "id": "TNQXNd6jMnG-"
      },
      "execution_count": null,
      "outputs": []
    },
    {
      "cell_type": "code",
      "source": [
        "dataset = load_dataset('enriquesaou/mrqa-squadded-sample', split='validation')\n",
        "pie_subsets(dataset)\n",
        "\n",
        "dataset = load_dataset('mrqa', split='validation')\n",
        "pie_subsets(dataset)"
      ],
      "metadata": {
        "id": "JZHv9VltNDGL"
      },
      "execution_count": null,
      "outputs": []
    },
    {
      "cell_type": "code",
      "source": [
        "dataset = load_dataset('enriquesaou/mrqa-squadded-sample', split='test')\n",
        "pie_subsets(dataset)\n",
        "\n",
        "dataset = load_dataset('mrqa', split='test')\n",
        "pie_subsets(dataset)"
      ],
      "metadata": {
        "id": "ugnSRsTaM1_t"
      },
      "execution_count": null,
      "outputs": []
    },
    {
      "cell_type": "markdown",
      "source": [
        "# Bar plot subset distribution"
      ],
      "metadata": {
        "id": "ra81UzImFDYD"
      }
    },
    {
      "cell_type": "code",
      "source": [
        "import matplotlib.pyplot as plt\n",
        "import numpy as np\n",
        "\n",
        "def grouped_bar_subsets(dataset1, dataset2, dataset1name='Sample', dataset2name='Original'):\n",
        "    subset_counts1 = {}\n",
        "    for subset in dataset1['subset']:\n",
        "        subset_counts1[subset] = subset_counts1.setdefault(subset, 0) + 1\n",
        "    subset_counts1 = dict(sorted(subset_counts1.items()))\n",
        "\n",
        "    subset_counts2 = {}\n",
        "    for subset in dataset2['subset']:\n",
        "        subset_counts2[subset] = subset_counts2.setdefault(subset, 0) + 1\n",
        "    subset_counts2 = dict(sorted(subset_counts2.items()))\n",
        "\n",
        "    labels = sorted(set(subset_counts1.keys()).union(subset_counts2.keys()))\n",
        "\n",
        "    total_counts1 = sum(subset_counts1.values())\n",
        "    total_counts2 = sum(subset_counts2.values())\n",
        "\n",
        "    percentages1 = [subset_counts1.get(label, 0) / total_counts1 * 100 for label in labels]\n",
        "    percentages2 = [subset_counts2.get(label, 0) / total_counts2 * 100 for label in labels]\n",
        "\n",
        "    x = np.arange(len(labels)) * 2  # increase spacing between the labels\n",
        "    width = 0.6  # width of the bars\n",
        "\n",
        "    custom_colors1 = ['#1f77b4']\n",
        "    custom_colors2 = ['#ff7f0e']\n",
        "\n",
        "    fig, ax = plt.subplots(figsize=(20, 10))  # figure size for better spacing\n",
        "    bars1 = ax.bar(x - width/2, percentages1, width, label=dataset1name, color=custom_colors1[0])\n",
        "    bars2 = ax.bar(x + width/2, percentages2, width, label=dataset2name, color=custom_colors2[0])\n",
        "\n",
        "    ax.set_xlabel('Subsets', fontsize=20)\n",
        "    ax.set_ylabel('Percentage distribution', fontsize=20)\n",
        "    ax.set_xticks(x)\n",
        "    ax.set_xticklabels(labels, fontsize=20)\n",
        "    ax.set_yticklabels(range(0,35, 5), fontsize=20)\n",
        "    ax.legend(fontsize=20)\n",
        "\n",
        "    plt.show()"
      ],
      "metadata": {
        "id": "As9jCmnYIowF"
      },
      "execution_count": null,
      "outputs": []
    },
    {
      "cell_type": "code",
      "source": [
        "from datasets import load_dataset\n",
        "\n",
        "mydata = load_dataset('enriquesaou/mrqa-squadded-sample', split='train')\n",
        "ogdata = load_dataset('mrqa', split='train')\n",
        "grouped_bar_subsets(mydata, ogdata)"
      ],
      "metadata": {
        "id": "uBBx1YNFF3zd"
      },
      "execution_count": null,
      "outputs": []
    },
    {
      "cell_type": "code",
      "source": [
        "from datasets import load_dataset\n",
        "\n",
        "mydata = load_dataset('enriquesaou/mrqa-squadded-sample', split='validation')\n",
        "ogdata = load_dataset('mrqa', split='validation')\n",
        "grouped_bar_subsets(mydata, ogdata)"
      ],
      "metadata": {
        "id": "NbG_vVc0FL0v"
      },
      "execution_count": null,
      "outputs": []
    },
    {
      "cell_type": "code",
      "source": [
        "from datasets import load_dataset\n",
        "\n",
        "mydata = load_dataset('enriquesaou/mrqa-squadded-sample', split='test')\n",
        "ogdata = load_dataset('mrqa', split='test')\n",
        "grouped_bar_subsets(mydata, ogdata)"
      ],
      "metadata": {
        "id": "LzpgvQkFKBp1"
      },
      "execution_count": null,
      "outputs": []
    }
  ]
}